{
 "cells": [
  {
   "cell_type": "markdown",
   "metadata": {},
   "source": [
    "# Project Scope"
   ]
  },
  {
   "cell_type": "markdown",
   "metadata": {},
   "source": [
    "**Project Name**: Inventory Optimization for Product A, B, and C\n",
    "\n",
    "**Scope Description**:\n",
    "\n",
    "The project aims to optimize inventory management for three product categories: Product A, Product B, and Product C, within a simulated retail environment. The optimization process will involve utilizing historical sales data and implementing inventory management strategies to minimize costs, reduce stockouts, and improve overall inventory efficiency.\n",
    "\n",
    "### Project Objectives:\n",
    "\n",
    "1. **Demand Forecasting**: Implement a pre-trained machine learning model to accurately forecast demand for Product A, Product B, and Product C based on historical sales data.\n",
    "\n",
    "2. **Inventory Optimization**: Apply inventory optimization techniques to determine the optimal inventory levels, reorder points, and safety stock levels for each product category. Consider different strategies, including Economic Order Quantity (EOQ) and Reorder Point (ROP) policies.\n",
    "\n",
    "3. **Cost Reduction**: Minimize carrying costs associated with excess inventory and stockout costs by maintaining optimal inventory levels. Aim to reduce overall inventory-related expenses.\n",
    "\n",
    "4. **Service Level Improvement**: Improve service levels by reducing instances of stockouts and ensuring products are available to meet customer demand.\n",
    "\n",
    "5. **Data Preparation**: Prepare historical sales and product data, including handling missing values, to ensure data quality and reliability for optimization.\n",
    "\n",
    "6. **Documentation**: Document the project's code, methodologies, and optimization results. Update the project's `readme.md` file to provide a clear overview of the project.\n",
    "\n",
    "7. **Insights and Reporting**: Generate reports and visualizations to present optimization results and provide actionable insights for inventory management decisions.\n",
    "\n",
    "8. **Testing and Validation**: Conduct thorough testing and validation of the implemented optimization strategies to ensure they align with business objectives.\n",
    "\n",
    "This project scope and objectives outline the key goals and deliverables for the Dummy data Inventory Optimization Project. It serves as a foundation for planning and executing the project successfully."
   ]
  },
  {
   "cell_type": "markdown",
   "metadata": {},
   "source": [
    "Load libraries"
   ]
  },
  {
   "cell_type": "code",
   "execution_count": 10,
   "metadata": {},
   "outputs": [],
   "source": [
    "# Import necessary libraries\n",
    "import pandas as pd\n",
    "import numpy as np\n",
    "import matplotlib.pyplot as plt\n",
    "import seaborn as sns\n",
    "from sklearn.ensemble import RandomForestRegressor\n",
    "from sklearn.metrics import mean_absolute_error, mean_squared_error\n",
    "from statsmodels.tsa.arima.model import ARIMA\n",
    "from sklearn.model_selection import train_test_split\n",
    "from datetime import datetime, timedelta\n"
   ]
  },
  {
   "cell_type": "markdown",
   "metadata": {},
   "source": [
    "# Demand Forecasting"
   ]
  },
  {
   "cell_type": "markdown",
   "metadata": {},
   "source": [
    "Load Pre-trained Demand Forecasting Model"
   ]
  },
  {
   "cell_type": "code",
   "execution_count": 21,
   "metadata": {},
   "outputs": [],
   "source": [
    "import joblib\n",
    "\n",
    "# Load the saved Random Forest model\n",
    "model = joblib.load('demand_forecasting_model.pkl')\n"
   ]
  },
  {
   "cell_type": "markdown",
   "metadata": {},
   "source": [
    "Generate Demand Forecasts"
   ]
  },
  {
   "cell_type": "code",
   "execution_count": 11,
   "metadata": {},
   "outputs": [
    {
     "name": "stdout",
     "output_type": "stream",
     "text": [
      "Historical sales and inventory data created and saved.\n"
     ]
    }
   ],
   "source": [
    "dummy_data = pd.read_csv('dummy_demand_data.csv')\n",
    "\n",
    "# Extract start and end dates from the data\n",
    "start_date = dummy_data['Date'].min()\n",
    "end_date = dummy_data['Date'].max()\n",
    "\n",
    "# Convert start_date and end_date to datetime objects\n",
    "start_date = datetime.strptime(start_date, '%Y-%m-%d')\n",
    "end_date = datetime.strptime(end_date, '%Y-%m-%d')\n",
    "\n",
    "# Create a date range for historical data\n",
    "date_range = [start_date + timedelta(days=x) for x in range(0, (end_date - start_date).days + 1)]\n",
    "\n",
    "# Generate historical sales data\n",
    "historical_sales = []\n",
    "for date in date_range:\n",
    "    for product in dummy_data['Product'].unique():\n",
    "        demand = dummy_data[(dummy_data['Date'] == date.strftime('%Y-%m-%d')) & (dummy_data['Product'] == product)]['Demand'].values[0]\n",
    "        historical_sales.append([date, product, demand])\n",
    "\n",
    "# Create a DataFrame for historical sales\n",
    "historical_sales_df = pd.DataFrame(historical_sales, columns=['Date', 'Product', 'Demand'])\n",
    "\n",
    "# Save historical sales data to CSV\n",
    "historical_sales_df.to_csv('historical_sales.csv', index=False)\n",
    "\n",
    "# Create inventory data (this is a simplified example)\n",
    "inventory_data = []\n",
    "for date in date_range:\n",
    "    for product in dummy_data['Product'].unique():\n",
    "        inventory_data.append([date, product, np.random.randint(0, 100)])  # Random inventory levels\n",
    "\n",
    "# Create a DataFrame for inventory data\n",
    "inventory_data_df = pd.DataFrame(inventory_data, columns=['Date', 'Product', 'Inventory'])\n",
    "\n",
    "# Save inventory data to CSV\n",
    "inventory_data_df.to_csv('inventory_data.csv', index=False)\n",
    "\n",
    "print(\"Historical sales and inventory data created and saved.\")\n"
   ]
  },
  {
   "cell_type": "code",
   "execution_count": 15,
   "metadata": {},
   "outputs": [],
   "source": [
    "# Load Historical Sales and Inventory Data\n",
    "sales_df = pd.read_csv('historical_sales.csv')\n",
    "inventory_df = pd.read_csv('inventory_data.csv')\n",
    "\n"
   ]
  },
  {
   "cell_type": "code",
   "execution_count": 17,
   "metadata": {},
   "outputs": [
    {
     "name": "stdout",
     "output_type": "stream",
     "text": [
      "         Date    Product  Demand  Inventory\n",
      "0  2019-01-01  Product A      57         11\n",
      "1  2019-01-01  Product B      68         81\n",
      "2  2019-01-01  Product C      98         24\n",
      "3  2019-01-02  Product A      64         17\n",
      "4  2019-01-02  Product B      98         99\n",
      "Data preprocessing complete and saved.\n"
     ]
    }
   ],
   "source": [
    "# Merge historical sales and inventory data on 'Date' and 'Product'\n",
    "merged_data_df = pd.merge(sales_df, inventory_df, on=['Date', 'Product'], how='left')\n",
    "\n",
    "# Fill missing inventory values with 0 (assuming no data means no inventory)\n",
    "merged_data_df['Inventory'].fillna(0, inplace=True)\n",
    "\n",
    "# Sort the data by date and product\n",
    "merged_data_df.sort_values(by=['Date', 'Product'], inplace=True)\n",
    "\n",
    "# Reset index\n",
    "merged_data_df.reset_index(drop=True, inplace=True)\n",
    "\n",
    "# Print the first few rows of the preprocessed data\n",
    "print(merged_data_df.head())\n",
    "\n",
    "# Save the preprocessed data to a new CSV file\n",
    "merged_data_df.to_csv('preprocessed_data.csv', index=False)\n",
    "\n",
    "print(\"Data preprocessing complete and saved.\")\n"
   ]
  },
  {
   "cell_type": "code",
   "execution_count": 23,
   "metadata": {},
   "outputs": [],
   "source": [
    "# Convert the 'Date' column to datetime type\n",
    "merged_data_df['Date'] = pd.to_datetime(merged_data_df['Date'])\n",
    "\n",
    "# Define the products for which you want to generate forecasts\n",
    "products = ['Product A', 'Product B', 'Product C']\n",
    "\n",
    "# Create an empty DataFrame to store the forecasts\n",
    "forecasts_df = pd.DataFrame()\n",
    "\n",
    "# Loop through each product\n",
    "for product in products:\n",
    "    # Create a subset of merged_data_df for the current product\n",
    "    product_data = merged_data_df[merged_data_df['Product'] == product].copy()\n",
    "    \n",
    "    # Filter data within the defined date range\n",
    "    product_data = product_data[(product_data['Date'] >= start_date) & (product_data['Date'] <= end_date)]\n",
    "    \n",
    "    # Reset the index\n",
    "    product_data.reset_index(drop=True, inplace=True)\n",
    "    \n",
    "    # Fill missing values with 0 for sales and current inventory\n",
    "    product_data['Demand'].fillna(0, inplace=True)\n",
    "    product_data['Inventory'].fillna(0, inplace=True)\n",
    "\n",
    "    # Perform any necessary feature engineering (lagged demand, time-based features, interactions, etc.)\n",
    "    # ...\n",
    "    \n",
    "    # Make predictions using the loaded demand forecasting model\n",
    "    product_data['Forecasted_Demand'] = model.predict(product_data.drop(['Date', 'Product'], axis=1))\n",
    "    \n",
    "    # Append the forecasts for the current product to the forecasts_df\n",
    "    forecasts_df = pd.concat([forecasts_df, product_data], ignore_index=True)\n",
    "\n",
    "# Save the demand forecasts to a CSV file\n",
    "forecasts_df.to_csv('demand_forecasts.csv', index=False)\n",
    "\n",
    "# Display the generated forecasts\n",
    "print(forecasts_df.head())\n",
    "    \n"
   ]
  },
  {
   "cell_type": "code",
   "execution_count": null,
   "metadata": {},
   "outputs": [],
   "source": [
    "\n",
    "\n",
    "    \n"
   ]
  },
  {
   "cell_type": "markdown",
   "metadata": {},
   "source": [
    "# Data Preparation"
   ]
  },
  {
   "cell_type": "markdown",
   "metadata": {},
   "source": [
    "# Inventory Optimization"
   ]
  },
  {
   "cell_type": "markdown",
   "metadata": {},
   "source": [
    "# Analysis and Insights"
   ]
  },
  {
   "cell_type": "markdown",
   "metadata": {},
   "source": [
    "# Testing and Validation"
   ]
  },
  {
   "cell_type": "markdown",
   "metadata": {},
   "source": [
    "# Documentation and Reporting"
   ]
  },
  {
   "cell_type": "markdown",
   "metadata": {},
   "source": []
  }
 ],
 "metadata": {
  "kernelspec": {
   "display_name": "venv",
   "language": "python",
   "name": "python3"
  },
  "language_info": {
   "codemirror_mode": {
    "name": "ipython",
    "version": 3
   },
   "file_extension": ".py",
   "mimetype": "text/x-python",
   "name": "python",
   "nbconvert_exporter": "python",
   "pygments_lexer": "ipython3",
   "version": "3.9.6"
  },
  "orig_nbformat": 4
 },
 "nbformat": 4,
 "nbformat_minor": 2
}
